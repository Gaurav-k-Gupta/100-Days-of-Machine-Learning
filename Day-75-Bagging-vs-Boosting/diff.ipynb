{
 "cells": [
  {
   "cell_type": "markdown",
   "id": "ddf95bd5",
   "metadata": {},
   "source": [
    "In ML , we want our models to have low bias and low variance.\n",
    "But there is a trade off between these two.\n",
    "\n",
    "To achieve this there are three methods :- \n",
    "Regularization , Bagging( Bootstrap Aggregation ) , Boosting\n",
    "\n",
    "Type of models used in:-\n",
    "1) Bagging - Low Bias , High variance ( ex - fully grown decision tree )\n",
    "2) Boosting - High Bias , Low Variance ( ex - Shallow Decision tree or Decision stump )\n",
    "\n",
    "Sequential vs parallel \n",
    "Bagging is parallel ( all the models are given different parts of a data and they are trained in parallel )\n",
    "Boosting is sequential ( Next model can be trained only after previous model is trained )\n",
    "\n",
    "Weightage of Base Learners :-\n",
    "In Bagging , the base models have equal weight .\n",
    "whereas in Boosting , the base models have some weight assigned ( so the model with better results is given more weight )"
   ]
  },
  {
   "cell_type": "markdown",
   "id": "60ba6f82",
   "metadata": {},
   "source": []
  }
 ],
 "metadata": {
  "language_info": {
   "name": "python"
  }
 },
 "nbformat": 4,
 "nbformat_minor": 5
}
