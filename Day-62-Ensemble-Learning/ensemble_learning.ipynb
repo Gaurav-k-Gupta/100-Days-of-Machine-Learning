{
 "cells": [
  {
   "cell_type": "markdown",
   "metadata": {},
   "source": [
    "<h1> Ensemble Learning </h1>"
   ]
  },
  {
   "cell_type": "markdown",
   "metadata": {},
   "source": [
    "<h3> Types of ensemble Learning </h3>\n",
    "<p>1) Voting Ensemble</p>\n",
    "<p>2) Bagging\n",
    "    <br>\n",
    "    a) Random Forest\n",
    "</p>\n",
    "<p>3) Boosting\n",
    "    <br>\n",
    "    a) Adaboosting\n",
    "    b) Gradient Boosting\n",
    "    c) XgBoost\n",
    "</p>\n",
    "<p>4) Stacking</p>\n"
   ]
  },
  {
   "cell_type": "markdown",
   "metadata": {},
   "source": [
    "## voting ensemble -> Different base models trained on same data\n",
    "\n",
    "## Bagging -> Bootstrapped Aggregation ( different models trained on different data )\n",
    "            Special case :- Random Forest ( The base models are all decision trees trained on different data)\n",
    "        \n",
    "## Stacking :- First part is same as voting ensemble i.e, different models on same dataset then in the end we generate a dataset from the output of these models and provide weights to them using another algorithm or model.....This is called stacking.\n",
    "\n",
    "## Boosting"
   ]
  },
  {
   "cell_type": "markdown",
   "metadata": {},
   "source": [
    "Benefits of ensemble learning\n",
    "\n",
    "1) Improvement in performance\n",
    "2) Bias variance ( it helps to get low bias and low variance )\n",
    "\n",
    "\n",
    "Disadvantages :-\n",
    "High computation time"
   ]
  }
 ],
 "metadata": {
  "language_info": {
   "name": "python"
  }
 },
 "nbformat": 4,
 "nbformat_minor": 2
}
