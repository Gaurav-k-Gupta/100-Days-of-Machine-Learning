{
 "cells": [
  {
   "cell_type": "markdown",
   "metadata": {},
   "source": [
    "<h1>Curse of Dimensionality<h1>"
   ]
  },
  {
   "cell_type": "markdown",
   "metadata": {},
   "source": [
    "If there are too less features(or columns) in my dataset then the performance of the model is not very accurate.<br/>\n",
    "Whereas, if there are too much features(or columns) in the dataset then the compuation time is very high.<br/>\n",
    "\n",
    "So, there should always be optimal number of features in the dataset in order to optimize the accuracy and computation time.\n",
    "\n",
    "This is called \"Curse of Dimensionality\".\n",
    "\n"
   ]
  },
  {
   "cell_type": "markdown",
   "metadata": {},
   "source": [
    "<br/>"
   ]
  },
  {
   "cell_type": "markdown",
   "metadata": {},
   "source": [
    "<hr/>"
   ]
  },
  {
   "cell_type": "markdown",
   "metadata": {},
   "source": [
    "Ways to reduce dimensionality\n",
    "1) Feature Selection <br/>\n",
    "    -> Forward Selection <br/>\n",
    "    -> Backward Elimination <br/>\n",
    "<br/>\n",
    "2) Feature Extraction <br/>\n",
    "    -> PCA (Principal Component Analysis) <br/>\n",
    "    -> LDA (Linear Discriminant Analysis) <br/>\n",
    "    -> t-SNE (t-distributed Stochastic Neighbor Embedding) <br/>"
   ]
  }
 ],
 "metadata": {
  "language_info": {
   "name": "python"
  }
 },
 "nbformat": 4,
 "nbformat_minor": 2
}
