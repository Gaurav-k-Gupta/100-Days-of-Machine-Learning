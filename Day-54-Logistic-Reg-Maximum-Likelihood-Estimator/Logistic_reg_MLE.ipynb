{
 "cells": [
  {
   "cell_type": "markdown",
   "metadata": {},
   "source": [
    "<h1>Logistic Regression using maximum likelihood estimator</h1>"
   ]
  },
  {
   "cell_type": "markdown",
   "metadata": {},
   "source": [
    "log loss error = - (1/n) &Sigma;[ yi*log(yi^) + (1-yi)*log(1-yi^) ]\n",
    "<br>\n",
    "(Binary cross entropy)"
   ]
  },
  {
   "cell_type": "code",
   "execution_count": null,
   "metadata": {},
   "outputs": [],
   "source": []
  }
 ],
 "metadata": {
  "language_info": {
   "name": "python"
  }
 },
 "nbformat": 4,
 "nbformat_minor": 2
}
