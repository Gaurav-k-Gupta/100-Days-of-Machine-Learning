{
 "cells": [
  {
   "cell_type": "markdown",
   "metadata": {},
   "source": [
    "<p>The performance of the model on the training data is called bias</p>\n",
    "<p>If the model perform really good or the performance score is high then it is called low bias</p>\n",
    "<p>Where as the performance on the test data is variance</p>"
   ]
  },
  {
   "cell_type": "markdown",
   "metadata": {},
   "source": [
    "<p>Overfitting :- Model which has low bias and high variance (performs better on training data)</p>\n",
    "<p>Underfitting :- Model which has high bias and low variance (Performs better on test data)</p>"
   ]
  },
  {
   "cell_type": "markdown",
   "metadata": {},
   "source": [
    "<p>We want the model to have the model with low bias and low variance</p>"
   ]
  },
  {
   "cell_type": "markdown",
   "metadata": {},
   "source": [
    "<p>Methods to do this are :- </p>\n",
    "1.) Regularization\n",
    "<br>\n",
    "2.) Bagging \n",
    "<br>\n",
    "3.) Boosting"
   ]
  }
 ],
 "metadata": {
  "language_info": {
   "name": "python"
  }
 },
 "nbformat": 4,
 "nbformat_minor": 2
}
