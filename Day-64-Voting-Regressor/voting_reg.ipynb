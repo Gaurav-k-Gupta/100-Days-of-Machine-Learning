{
 "cells": [
  {
   "cell_type": "code",
   "execution_count": 1,
   "metadata": {},
   "outputs": [],
   "source": [
    "import numpy as np\n",
    "import pandas as pd\n"
   ]
  },
  {
   "cell_type": "code",
   "execution_count": 3,
   "metadata": {},
   "outputs": [
    {
     "name": "stdout",
     "output_type": "stream",
     "text": [
      "      CRIM    ZN  INDUS CHAS    NOX     RM   AGE     DIS RAD    TAX  PTRATIO  \\\n",
      "0  0.00632  18.0   2.31    0  0.538  6.575  65.2  4.0900   1  296.0     15.3   \n",
      "1  0.02731   0.0   7.07    0  0.469  6.421  78.9  4.9671   2  242.0     17.8   \n",
      "2  0.02729   0.0   7.07    0  0.469  7.185  61.1  4.9671   2  242.0     17.8   \n",
      "3  0.03237   0.0   2.18    0  0.458  6.998  45.8  6.0622   3  222.0     18.7   \n",
      "4  0.06905   0.0   2.18    0  0.458  7.147  54.2  6.0622   3  222.0     18.7   \n",
      "\n",
      "        B  LSTAT  \n",
      "0  396.90   4.98  \n",
      "1  396.90   9.14  \n",
      "2  392.83   4.03  \n",
      "3  394.63   2.94  \n",
      "4  396.90   5.33   0    24.0\n",
      "1    21.6\n",
      "2    34.7\n",
      "3    33.4\n",
      "4    36.2\n",
      "Name: MEDV, dtype: float64\n"
     ]
    }
   ],
   "source": [
    "from sklearn.datasets import fetch_openml\n",
    "\n",
    "# Fetch the dataset\n",
    "boston = fetch_openml(name=\"boston\", version=1, as_frame=True)\n",
    "\n",
    "# Extract data and target\n",
    "X, y = boston.data, boston.target\n",
    "\n",
    "# Display first few rows\n",
    "print(X.head(), y.head())\n"
   ]
  },
  {
   "cell_type": "code",
   "execution_count": 15,
   "metadata": {},
   "outputs": [],
   "source": [
    "X = X.drop(columns=[\"CHAS\" , \"RAD\"])"
   ]
  },
  {
   "cell_type": "code",
   "execution_count": 16,
   "metadata": {},
   "outputs": [
    {
     "data": {
      "text/plain": [
       "((506, 11), (506,))"
      ]
     },
     "execution_count": 16,
     "metadata": {},
     "output_type": "execute_result"
    }
   ],
   "source": [
    "X.shape , y.shape"
   ]
  },
  {
   "cell_type": "code",
   "execution_count": 17,
   "metadata": {},
   "outputs": [
    {
     "data": {
      "text/plain": [
       "(CRIM       float64\n",
       " ZN         float64\n",
       " INDUS      float64\n",
       " NOX        float64\n",
       " RM         float64\n",
       " AGE        float64\n",
       " DIS        float64\n",
       " TAX        float64\n",
       " PTRATIO    float64\n",
       " B          float64\n",
       " LSTAT      float64\n",
       " dtype: object,\n",
       " dtype('float64'))"
      ]
     },
     "execution_count": 17,
     "metadata": {},
     "output_type": "execute_result"
    }
   ],
   "source": [
    "X.dtypes , y.dtypes"
   ]
  },
  {
   "cell_type": "code",
   "execution_count": 18,
   "metadata": {},
   "outputs": [],
   "source": [
    "from sklearn.linear_model import LinearRegression\n",
    "from sklearn.tree import DecisionTreeRegressor\n",
    "from sklearn.svm import SVR\n",
    "from sklearn.model_selection import cross_val_score"
   ]
  },
  {
   "cell_type": "code",
   "execution_count": 19,
   "metadata": {},
   "outputs": [],
   "source": [
    "lr = LinearRegression()\n",
    "dt = DecisionTreeRegressor()\n",
    "svr = SVR()"
   ]
  },
  {
   "cell_type": "code",
   "execution_count": 20,
   "metadata": {},
   "outputs": [],
   "source": [
    "estimators = [('lr' , lr) , ('dt' , dt) , ('svr' , svr)]"
   ]
  },
  {
   "cell_type": "code",
   "execution_count": 21,
   "metadata": {},
   "outputs": [
    {
     "name": "stdout",
     "output_type": "stream",
     "text": [
      "lr 0.21170956276749173\n",
      "dt -0.09305122197695806\n",
      "svr -0.4107898261670053\n"
     ]
    }
   ],
   "source": [
    "for estimator in estimators:\n",
    "    score = np.mean(cross_val_score(estimator[1] , X , y , cv=10 , scoring='r2'))\n",
    "    print(estimator[0] , score)\n"
   ]
  },
  {
   "cell_type": "code",
   "execution_count": 22,
   "metadata": {},
   "outputs": [],
   "source": [
    "from sklearn.ensemble import VotingRegressor\n"
   ]
  },
  {
   "cell_type": "code",
   "execution_count": 23,
   "metadata": {},
   "outputs": [
    {
     "name": "stdout",
     "output_type": "stream",
     "text": [
      "vr 0.4384187864693422\n"
     ]
    }
   ],
   "source": [
    "vr = VotingRegressor(estimators=estimators)\n",
    "score = np.mean(cross_val_score(vr , X , y , cv=10 , scoring='r2'))\n",
    "print('vr' , score)"
   ]
  },
  {
   "cell_type": "code",
   "execution_count": 25,
   "metadata": {},
   "outputs": [
    {
     "name": "stdout",
     "output_type": "stream",
     "text": [
      "For i=1 , j=1 , k=1 0.35\n",
      "For i=1 , j=1 , k=2 0.31\n",
      "For i=1 , j=1 , k=3 0.25\n",
      "For i=1 , j=2 , k=1 0.38\n",
      "For i=1 , j=2 , k=2 0.29\n",
      "For i=1 , j=2 , k=3 0.27\n",
      "For i=1 , j=3 , k=1 0.27\n",
      "For i=1 , j=3 , k=2 0.38\n",
      "For i=1 , j=3 , k=3 0.36\n",
      "For i=2 , j=1 , k=1 0.44\n",
      "For i=2 , j=1 , k=2 0.4\n",
      "For i=2 , j=1 , k=3 0.33\n",
      "For i=2 , j=2 , k=1 0.44\n",
      "For i=2 , j=2 , k=2 0.43\n",
      "For i=2 , j=2 , k=3 0.38\n",
      "For i=2 , j=3 , k=1 0.38\n",
      "For i=2 , j=3 , k=2 0.41\n",
      "For i=2 , j=3 , k=3 0.4\n",
      "For i=3 , j=1 , k=1 0.42\n",
      "For i=3 , j=1 , k=2 0.41\n",
      "For i=3 , j=1 , k=3 0.37\n",
      "For i=3 , j=2 , k=1 0.4\n",
      "For i=3 , j=2 , k=2 0.39\n",
      "For i=3 , j=2 , k=3 0.37\n",
      "For i=3 , j=3 , k=1 0.43\n",
      "For i=3 , j=3 , k=2 0.43\n",
      "For i=3 , j=3 , k=3 0.44\n"
     ]
    }
   ],
   "source": [
    "for i in range(1,4):\n",
    "    for j in range(1,4):\n",
    "        for k in range(1,4):\n",
    "            vr = VotingRegressor(estimators=estimators , weights=[i , j , k])\n",
    "            score = np.mean(cross_val_score(vr , X , y , cv=10 , scoring='r2'))\n",
    "            print(\"For i={} , j={} , k={}\".format(i , j , k) , np.round(score , 2))"
   ]
  },
  {
   "cell_type": "code",
   "execution_count": null,
   "metadata": {},
   "outputs": [],
   "source": []
  }
 ],
 "metadata": {
  "kernelspec": {
   "display_name": "Python 3",
   "language": "python",
   "name": "python3"
  },
  "language_info": {
   "codemirror_mode": {
    "name": "ipython",
    "version": 3
   },
   "file_extension": ".py",
   "mimetype": "text/x-python",
   "name": "python",
   "nbconvert_exporter": "python",
   "pygments_lexer": "ipython3",
   "version": "3.12.3"
  }
 },
 "nbformat": 4,
 "nbformat_minor": 2
}
